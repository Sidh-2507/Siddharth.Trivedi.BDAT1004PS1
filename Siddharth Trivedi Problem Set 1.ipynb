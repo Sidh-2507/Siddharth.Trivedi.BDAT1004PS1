{
 "cells": [
  {
   "cell_type": "markdown",
   "id": "a5f7a90a",
   "metadata": {},
   "source": [
    "# Question 1"
   ]
  },
  {
   "cell_type": "code",
   "execution_count": 5,
   "id": "39e54828",
   "metadata": {},
   "outputs": [
    {
     "name": "stdout",
     "output_type": "stream",
     "text": [
      "<class 'int'>\n",
      "<class 'float'>\n",
      "<class 'bool'>\n",
      "<class 'str'>\n",
      "<class 'int'>\n",
      "<class 'str'>\n",
      "<class 'str'>\n",
      "<class 'float'>\n",
      "<class 'int'>\n",
      "<class 'set'>\n",
      "<class 'bool'>\n",
      "<class 'float'>\n"
     ]
    }
   ],
   "source": [
    "import math\n",
    "\n",
    "a = 5\n",
    "b = 5.0\n",
    "c = 5 > 1\n",
    "d = '5'\n",
    "e = 5 * 2\n",
    "f = '5' * 2\n",
    "g = '5' + '2'\n",
    "h = 5 / 2\n",
    "i = 5 % 2\n",
    "j = {5, 2, 1}\n",
    "k = 5 == 3\n",
    "l = math.pix\n",
    "print(type(a))\n",
    "print(type(b))\n",
    "print(type(c))\n",
    "print(type(d))\n",
    "print(type(e))\n",
    "print(type(f))\n",
    "print(type(g))\n",
    "print(type(h))\n",
    "print(type(i))\n",
    "print(type(j))\n",
    "print(type(k))\n",
    "print(type(l))"
   ]
  },
  {
   "cell_type": "markdown",
   "id": "da0db072",
   "metadata": {},
   "source": [
    "# Question 2"
   ]
  },
  {
   "cell_type": "code",
   "execution_count": 48,
   "id": "e5a08942",
   "metadata": {},
   "outputs": [
    {
     "name": "stdout",
     "output_type": "stream",
     "text": [
      "[A]: 34\n",
      "[B]: yes\n",
      "Supercalifragilisticexpialidocious and Bababadalgharaghtakamminarronnkonn are longest\n",
      "[D]: first composer: Bartok\n",
      "     Last composer: Buxtehude\n"
     ]
    }
   ],
   "source": [
    "#Solution of [A]\n",
    "a = 'Supercalifragilisticexpialidocious'\n",
    "print(\"[A]:\",len(a))\n",
    "\n",
    "#Solution of [B]\n",
    "b = 'Supercalifragilisticexpialidocious'\n",
    "if 'ice' in b:\n",
    "    print(\"[B]:\",\"yes\")\n",
    "    \n",
    "#Solution of [c]\n",
    "letters = ['Supercalifragilisticexpialidocious','Honorificabilitudinitatibus','Bababadalgharaghtakamminarronnkonn']\n",
    "x = len(letters[0])\n",
    "y = len(letters[1])\n",
    "z = len(letters[2])\n",
    "\n",
    "if (x>y) and (x>z):\n",
    "    print(letters[0], 'is the longest')\n",
    "elif (y>x) and (y>z):\n",
    "    print(letters[1], 'is the longest')\n",
    "elif (z>x) and (z>y):\n",
    "    print(letters[2], 'is the longest')\n",
    "elif (x==y):\n",
    "    print(letters[0], 'and', letters[1], 'are longest')\n",
    "elif (x==z):\n",
    "    print(letters[0], 'and', letters[2], 'are longest')\n",
    "elif (y==z):\n",
    "    print(letters[1], 'and', letters[2], 'are longest')\n",
    "else:\n",
    "    print(\"All are equal and longest\")\n",
    "\n",
    "\n",
    "#Solution of [D]\n",
    "a = ['Berlioz', 'Borodin', 'Brian','Bartok', 'Bellini', 'Buxtehude', 'Bernstein']\n",
    "a.sort()\n",
    "print(\"[D]:\",'first composer:',a[0])\n",
    "print(\"     Last composer:\",a[-1])"
   ]
  },
  {
   "cell_type": "markdown",
   "id": "dc49bd80",
   "metadata": {},
   "source": [
    "# Question 3"
   ]
  },
  {
   "cell_type": "code",
   "execution_count": 28,
   "id": "50bdc170",
   "metadata": {},
   "outputs": [
    {
     "name": "stdout",
     "output_type": "stream",
     "text": [
      "1.7320508075688772\n"
     ]
    }
   ],
   "source": [
    "import math \n",
    "\n",
    "def triangleArea(a,b,c):\n",
    "    \n",
    "    s = (a + b + c)/2\n",
    "    area = math.sqrt(s*(s-a)*(s-b)*(s-c))\n",
    "    print(area)\n",
    "    \n",
    "triangleArea(2,2,2)\n"
   ]
  },
  {
   "cell_type": "markdown",
   "id": "d4614ab1",
   "metadata": {},
   "source": [
    "# Question 4 "
   ]
  },
  {
   "cell_type": "code",
   "execution_count": 3,
   "id": "dce2185c",
   "metadata": {},
   "outputs": [
    {
     "name": "stdout",
     "output_type": "stream",
     "text": [
      "32\n",
      "42\n",
      "47\n",
      "25\n",
      "56\n",
      "Even Elements are:\n",
      "[32, 42, 56]\n",
      "Odd Elements are:\n",
      "[47, 25]\n"
     ]
    }
   ],
   "source": [
    "TestData = []\n",
    "EvenElements = []\n",
    "OddElements = []\n",
    "\n",
    "for i in range(5):\n",
    "    a = input()\n",
    "    TestData.append(int(a))\n",
    "    \n",
    "for i in TestData:\n",
    "    if (i%2==0):\n",
    "        EvenElements.append(i)\n",
    "    else:\n",
    "        OddElements.append(i)\n",
    "\n",
    "print(\"Even Elements are:\")\n",
    "print(EvenElements)\n",
    "print(\"Odd Elements are:\")\n",
    "print(OddElements)\n",
    "    \n",
    "    \n",
    "\n",
    "        "
   ]
  },
  {
   "cell_type": "markdown",
   "id": "ab030d15",
   "metadata": {},
   "source": [
    "# Question 5"
   ]
  },
  {
   "cell_type": "code",
   "execution_count": 6,
   "id": "5c23cf20",
   "metadata": {},
   "outputs": [
    {
     "name": "stdout",
     "output_type": "stream",
     "text": [
      "True\n",
      "False\n"
     ]
    }
   ],
   "source": [
    "def inside(x,y,x1,y1,x2,y2):\n",
    "    if x>x1 and x<x2 and y>y1 and y<y2:\n",
    "        return True\n",
    "    else:\n",
    "        return False\n",
    "    \n",
    "print(inside(1,1,0,0,2,3))\n",
    "print(inside(-1,-1,0,0,2,3))"
   ]
  },
  {
   "cell_type": "markdown",
   "id": "65fd8d55",
   "metadata": {},
   "source": [
    "# Question 6"
   ]
  },
  {
   "cell_type": "code",
   "execution_count": 34,
   "id": "14aef259",
   "metadata": {},
   "outputs": [
    {
     "name": "stdout",
     "output_type": "stream",
     "text": [
      "Enter the word: happy\n",
      "appyhay\n"
     ]
    }
   ],
   "source": [
    "\n",
    "def pig(string):\n",
    "    \n",
    "    a = string.lower()\n",
    "    vowel = ['a','e','i','o','u']\n",
    "    if a[0] in vowel:\n",
    "        a = a[0:] + \"way\"\n",
    "        print(a)\n",
    "    else:\n",
    "        a = a[1:] + a[0] + \"ay\"\n",
    "        print(a)\n",
    "        \n",
    "strin = input(\"Enter the word: \")\n",
    "pig(strin)\n",
    "        \n",
    "            \n",
    "        "
   ]
  },
  {
   "cell_type": "markdown",
   "id": "e117a1c1",
   "metadata": {},
   "source": [
    "# Question 7"
   ]
  },
  {
   "cell_type": "code",
   "execution_count": 46,
   "id": "be113e79",
   "metadata": {},
   "outputs": [
    {
     "name": "stdout",
     "output_type": "stream",
     "text": [
      "There are 15 patients of blood type A\n",
      "There is 1 patients of blood type B\n",
      "There are 13 patients of blood type AB\n",
      "There are 15 patients of blood type O\n",
      "There are no patients of blood type OO\n"
     ]
    }
   ],
   "source": [
    "file = open('C:/Users/sidhe/OneDrive/Desktop/bloodtype1.txt', 'r')\n",
    "     \n",
    "for line in file:\n",
    "    bldtype = []\n",
    "    for word in line.split():\n",
    "        \n",
    "        bldtype.append(word)\n",
    "        \n",
    "file.close()   \n",
    "#print(bldtype)\n",
    "bldtypCounts = {'A':bldtype.count('A'),'B':bldtype.count('B'),'AB':bldtype.count('AB'),'O':bldtype.count('O'),'OO':bldtype.count('OO')}\n",
    "#print(bldtypCounts)\n",
    "for i,j in bldtypCounts.items():\n",
    "    if j==0:\n",
    "        print(\"There are no patients of blood type\",i)\n",
    "    elif j==1:\n",
    "        print(\"There is\",j, \"patients of blood type\",i)\n",
    "    else:\n",
    "        print(\"There are\",j, \"patients of blood type\",i)"
   ]
  },
  {
   "cell_type": "markdown",
   "id": "674b3a4c",
   "metadata": {},
   "source": [
    "# Question 8"
   ]
  },
  {
   "cell_type": "code",
   "execution_count": 5,
   "id": "408cc0cd",
   "metadata": {},
   "outputs": [
    {
     "name": "stdout",
     "output_type": "stream",
     "text": [
      "AUD\t1.0345157\tAustralian Dollar\n",
      "CHF\t1.0237414\tSwiss Franc\n",
      "CNY\t0.1550176\tChinese Yuan\n",
      "DKK\t0.1651442\tDanish Krone\n",
      "EUR\t1.2296544\tEuro Euro\n",
      "GBP\t1.5550989\tBritish Pound\n",
      "HKD\t0.1270207\tHong Kong Dollar\n",
      "INR\t0.0177643\tIndian Rupee\n",
      "JPY\t0.01241401\tJapanese Yen\n",
      "MXN\t0.0751848\tMexican Peso\n",
      "MYR\t0.3145411\tMalaysian Ringgit\n",
      "NOK\t0.1677063\tNorwegian Krone\n",
      "NZD\t0.8003591\tNew Zealand Dollar\n",
      "PHP\t0.0233234\tPhilippine Peso\n",
      "SEK\t0.148269\tSwedish Krona\n",
      "SGD\t0.788871\tSingapore Dollar\n",
      "THB\t0.0313789\tThai Baht\n",
      "\n",
      "\n",
      "\n",
      "Enter the currency code from above list: aud\n",
      "Enter the amount to be converted: 100\n",
      "\n",
      "\n",
      "Enterd Currency: Australian Dollar\n",
      "Entered Amount to be converted: 100\n",
      "103.45157\n"
     ]
    }
   ],
   "source": [
    "#Try Block\n",
    "try:\n",
    "    file = open('C:/Users/sidhe/OneDrive/Desktop/currencies.txt', 'r')\n",
    "    data = file.read().replace('\\n','\\n')\n",
    "    print(data)\n",
    "    file.close()\n",
    "    print(\"\\n\")\n",
    "    cur = input(\"Enter the currency code from above list: \")\n",
    "    amount = int(input(\"Enter the amount to be converted: \"))\n",
    "\n",
    "    #To Get the currency exchange values\n",
    "    with open('C:/Users/sidhe/OneDrive/Desktop/currencies.txt','r') as data_file:\n",
    "        currencyNames = {};\n",
    "        currency = {};\n",
    "        for line in data_file:\n",
    "            data = line.split()\n",
    "            currency[data[0]] = float(data[1])\n",
    "            currencyNames[data[0]] = data[2] +\" \"+ data[3]\n",
    "    \n",
    "    print(\"\\n\")\n",
    "    curEntered = currencyNames[cur.upper()]\n",
    "\n",
    "    print(\"Enterd Currency: \"+curEntered)\n",
    "    print(\"Entered Amount to be converted: \"+ str(amount))\n",
    "    cur = cur.upper()\n",
    "\n",
    "    #Function to do Exhcnaging of currency rates\n",
    "    def curconv(cur,amount):\n",
    "        cur = cur.upper()\n",
    "        conv = currency[cur] * amount\n",
    "        print(conv)\n",
    "\n",
    "    curconv(cur,amount)\n",
    "\n",
    "#Except block while entering wrong currency \n",
    "except KeyError:\n",
    "    print(\"Entered Currency is Wrong.\")\n",
    "    \n",
    "#Except block while any other error\n",
    "except:\n",
    "    print(\"something went wrong Sorry!\")\n",
    "    "
   ]
  },
  {
   "cell_type": "markdown",
   "id": "ff6092b4",
   "metadata": {},
   "source": [
    "# Question 9"
   ]
  },
  {
   "cell_type": "code",
   "execution_count": 29,
   "id": "faf32f20",
   "metadata": {},
   "outputs": [
    {
     "name": "stdout",
     "output_type": "stream",
     "text": [
      "1. Adding 6 + 'a' will throw this exception:\n",
      "\t\n",
      "TypeError: unsupported operand type(s) for +: 'int' and 'str'\n",
      "\t\n",
      "2. Referring to the 12th item of a list that has only 10\n",
      "\t\n",
      "IndexError: list index out of range:\n",
      "\t\n",
      "3. Using a value that is out of range for a function’s\n",
      "\t\n",
      "ValueError: math domain error\n",
      "\t\n",
      "4. Using an undeclared variable, such as print(x)\n",
      "\t\n",
      "NameError: name 'K' is not defined\n",
      "\t\n",
      "5. Trying to open a file that does not exist\n",
      "\t\n",
      "FileNotFoundError: No such file or directory\n"
     ]
    }
   ],
   "source": [
    "import math\n",
    "# Trying to add incompatible variables, as in\n",
    "# adding 6 + ‘a’\n",
    "print(\"1. Adding 6 + 'a' will throw this exception:\")\n",
    "print(\"\\t\")\n",
    "try:\n",
    "    y = 6\n",
    "    a = 'a'\n",
    "    print(x+a)\n",
    "except TypeError:\n",
    "    print(\"TypeError: unsupported operand type(s) for +: 'int' and 'str'\")\n",
    "# Referring to the 12th item of a list that has only 10\n",
    "# items\n",
    "print(\"\\t\")\n",
    "print(\"2. Referring to the 12th item of a list that has only 10\")\n",
    "print(\"\\t\")\n",
    "try:\n",
    "    l = [1,2,3,4,5,6,7,8,9,10]\n",
    "    print(x[12])\n",
    "except IndexError:\n",
    "    print(\"IndexError: list index out of range:\")\n",
    "\n",
    "# Using a value that is out of range for a function’s\n",
    "# input, such as calling math.sqrt(-1.0)\n",
    "print(\"\\t\")\n",
    "print(\"3. Using a value that is out of range for a function’s\")\n",
    "print(\"\\t\")\n",
    "try:\n",
    "    x = math.sqrt(-1.0)\n",
    "    print(x)\n",
    "except ValueError:\n",
    "    print(\"ValueError: math domain error\")\n",
    "# Using an undeclared variable, such as print(x)\n",
    "# when x has not been defined\n",
    "print(\"\\t\")\n",
    "print(\"4. Using an undeclared variable, such as print(x)\")\n",
    "print(\"\\t\")\n",
    "try:\n",
    "    print(k)\n",
    "except NameError:\n",
    "    print(\"NameError: name 'K' is not defined\")\n",
    "# Trying to open a file that does not exist, such as\n",
    "# mistyping the file name or looking in the wrong\n",
    "print(\"\\t\")\n",
    "print(\"5. Trying to open a file that does not exist\")\n",
    "print(\"\\t\")\n",
    "try:\n",
    "    file = open('C:/User/currencies.txt', 'r')\n",
    "except FileNotFoundError:\n",
    "    print(\"FileNotFoundError: No such file or directory\")\n",
    "\n",
    "\n"
   ]
  },
  {
   "cell_type": "markdown",
   "id": "4b05223c",
   "metadata": {},
   "source": [
    "# Question 10"
   ]
  },
  {
   "cell_type": "code",
   "execution_count": 6,
   "id": "6093e812",
   "metadata": {},
   "outputs": [
    {
     "name": "stdout",
     "output_type": "stream",
     "text": [
      "The input string is: The quick red fox got bored and went home.\n",
      "dict_values([1, 1, 1, 3, 5, 1, 1, 2, 1, 1, 1, 2, 4, 1, 2, 3, 1, 1, 1])\n"
     ]
    }
   ],
   "source": [
    "#The letters are ignored which is not present in the string\n",
    "\n",
    "input_string = 'The quick red fox got bored and went home.'\n",
    "print(\"The input string is:\", input_string)\n",
    "eSpace = ' '\n",
    "dot = '.'\n",
    "countOfChars = dict()\n",
    "for character in input_string.lower():\n",
    "    if character in countOfChars:\n",
    "        countOfChars[character] += 1\n",
    "    elif character is eSpace:\n",
    "        pass\n",
    "    elif character is dot:\n",
    "        pass\n",
    "    else:\n",
    "        countOfChars[character] = 1\n",
    "\n",
    "Keys = list(countOfChars.keys())\n",
    "Keys.sort()\n",
    "counts = {i: countOfChars[i] for i in Keys}\n",
    " \n",
    "print(counts.values())"
   ]
  }
 ],
 "metadata": {
  "kernelspec": {
   "display_name": "Python 3 (ipykernel)",
   "language": "python",
   "name": "python3"
  },
  "language_info": {
   "codemirror_mode": {
    "name": "ipython",
    "version": 3
   },
   "file_extension": ".py",
   "mimetype": "text/x-python",
   "name": "python",
   "nbconvert_exporter": "python",
   "pygments_lexer": "ipython3",
   "version": "3.9.13"
  }
 },
 "nbformat": 4,
 "nbformat_minor": 5
}
